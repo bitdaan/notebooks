{
 "cells": [
  {
   "cell_type": "markdown",
   "id": "794cf46f",
   "metadata": {},
   "source": [
    "<img src=\"Img/1.png\" />"
   ]
  },
  {
   "cell_type": "markdown",
   "id": "4c003efd",
   "metadata": {},
   "source": [
    "<img src=\"Img/2.png\" />"
   ]
  },
  {
   "cell_type": "markdown",
   "id": "6089d9f5",
   "metadata": {},
   "source": [
    "<img src=\"Img/3.png\" />"
   ]
  },
  {
   "cell_type": "markdown",
   "id": "318d4eb1",
   "metadata": {},
   "source": [
    "<img src=\"Img/4.png\" />"
   ]
  },
  {
   "cell_type": "markdown",
   "id": "ab624709",
   "metadata": {},
   "source": [
    "<img src=\"Img/5.png\" style=\"float : left\" />"
   ]
  },
  {
   "cell_type": "markdown",
   "id": "11ff8d16",
   "metadata": {},
   "source": [
    "<img src=\"Img/6.png\" />"
   ]
  },
  {
   "cell_type": "markdown",
   "id": "5faf8667",
   "metadata": {},
   "source": [
    "<img src=\"Img/7.png\" />"
   ]
  },
  {
   "cell_type": "markdown",
   "id": "ff681252",
   "metadata": {},
   "source": [
    "<img src=\"Img/8.png\" />"
   ]
  },
  {
   "cell_type": "code",
   "execution_count": 1,
   "id": "88896b20",
   "metadata": {},
   "outputs": [],
   "source": [
    "from bs4 import BeautifulSoup\n",
    "from datetime import datetime, timedelta"
   ]
  },
  {
   "cell_type": "code",
   "execution_count": 2,
   "id": "abf4f5dd",
   "metadata": {},
   "outputs": [],
   "source": [
    "import requests\n",
    "headers = {'User-Agent': 'Mozilla/5.0 (Macintosh; Intel Mac OS X 10_11_5) AppleWebKit/537.36 (KHTML, like Gecko) Chrome/50.0.2661.102 Safari/537.36'}"
   ]
  },
  {
   "cell_type": "markdown",
   "id": "dfcbd8ee",
   "metadata": {},
   "source": [
    "<img src=\"Img/10.png\" />"
   ]
  },
  {
   "cell_type": "code",
   "execution_count": 3,
   "id": "d1d4cd51",
   "metadata": {},
   "outputs": [],
   "source": [
    "def getBitcoinPrice(moment):\n",
    "    start = datetime.fromisoformat(moment).timestamp() * 1000\n",
    "    end = (datetime.fromisoformat(moment) +\n",
    "           timedelta(hours=24)).timestamp() * 1000\n",
    "    response=requests.get(\"https://api.coincap.io/v2/assets/bitcoin/history?interval=h1&start=\" +\n",
    "                            str(start) + \"&end=\" + str(end), headers = headers)\n",
    "    prices=response.json()[\"data\"]\n",
    "    if(len(prices) < 24):\n",
    "        prices=prices + [{\"priceUsd\": -1}]*(24-len(prices))\n",
    "    return prices"
   ]
  },
  {
   "cell_type": "markdown",
   "id": "50500d35",
   "metadata": {},
   "source": [
    "<img src=\"Img/ex.png\" />"
   ]
  },
  {
   "cell_type": "code",
   "execution_count": 4,
   "id": "dd1dc8c7",
   "metadata": {},
   "outputs": [
    {
     "data": {
      "text/plain": [
       "[{'priceUsd': '20157.2797573342068309',\n",
       "  'time': 1665014400000,\n",
       "  'circulatingSupply': '19170437.0000000000000000',\n",
       "  'date': '2022-10-06T00:00:00.000Z'},\n",
       " {'priceUsd': '20303.2760317372375999',\n",
       "  'time': 1665018000000,\n",
       "  'circulatingSupply': '19170437.0000000000000000',\n",
       "  'date': '2022-10-06T01:00:00.000Z'},\n",
       " {'priceUsd': '20368.9039300351807237',\n",
       "  'time': 1665021600000,\n",
       "  'circulatingSupply': '19170493.0000000000000000',\n",
       "  'date': '2022-10-06T02:00:00.000Z'},\n",
       " {'priceUsd': '20327.8698651513462585',\n",
       "  'time': 1665025200000,\n",
       "  'circulatingSupply': '19170493.0000000000000000',\n",
       "  'date': '2022-10-06T03:00:00.000Z'},\n",
       " {'priceUsd': '20362.3603625524447977',\n",
       "  'time': 1665028800000,\n",
       "  'circulatingSupply': '19170606.0000000000000000',\n",
       "  'date': '2022-10-06T04:00:00.000Z'},\n",
       " {'priceUsd': '20374.0117652486646733',\n",
       "  'time': 1665032400000,\n",
       "  'circulatingSupply': '19170606.0000000000000000',\n",
       "  'date': '2022-10-06T05:00:00.000Z'},\n",
       " {'priceUsd': '20328.2895683451473258',\n",
       "  'time': 1665036000000,\n",
       "  'circulatingSupply': '19170662.0000000000000000',\n",
       "  'date': '2022-10-06T06:00:00.000Z'},\n",
       " {'priceUsd': '20200.5514181961960862',\n",
       "  'time': 1665039600000,\n",
       "  'circulatingSupply': '19170662.0000000000000000',\n",
       "  'date': '2022-10-06T07:00:00.000Z'},\n",
       " {'priceUsd': '20220.7332704626422707',\n",
       "  'time': 1665043200000,\n",
       "  'circulatingSupply': '19170781.0000000000000000',\n",
       "  'date': '2022-10-06T08:00:00.000Z'},\n",
       " {'priceUsd': '20162.9908732454021575',\n",
       "  'time': 1665046800000,\n",
       "  'circulatingSupply': '19170781.0000000000000000',\n",
       "  'date': '2022-10-06T09:00:00.000Z'},\n",
       " {'priceUsd': '20108.6308918215330085',\n",
       "  'time': 1665050400000,\n",
       "  'circulatingSupply': '19170843.0000000000000000',\n",
       "  'date': '2022-10-06T10:00:00.000Z'},\n",
       " {'priceUsd': '20134.2540155664272498',\n",
       "  'time': 1665054000000,\n",
       "  'circulatingSupply': '19170843.0000000000000000',\n",
       "  'date': '2022-10-06T11:00:00.000Z'},\n",
       " {'priceUsd': '20259.2167714796477314',\n",
       "  'time': 1665057600000,\n",
       "  'circulatingSupply': '19170918.0000000000000000',\n",
       "  'date': '2022-10-06T12:00:00.000Z'},\n",
       " {'priceUsd': '20195.1747642079116785',\n",
       "  'time': 1665061200000,\n",
       "  'circulatingSupply': '19170918.0000000000000000',\n",
       "  'date': '2022-10-06T13:00:00.000Z'},\n",
       " {'priceUsd': '20151.6124207320426982',\n",
       "  'time': 1665064800000,\n",
       "  'circulatingSupply': '19170981.0000000000000000',\n",
       "  'date': '2022-10-06T14:00:00.000Z'},\n",
       " {'priceUsd': '20091.6347615985024896',\n",
       "  'time': 1665068400000,\n",
       "  'circulatingSupply': '19170981.0000000000000000',\n",
       "  'date': '2022-10-06T15:00:00.000Z'},\n",
       " {'priceUsd': '20049.1881494780278183',\n",
       "  'time': 1665072000000,\n",
       "  'circulatingSupply': '19171050.0000000000000000',\n",
       "  'date': '2022-10-06T16:00:00.000Z'},\n",
       " {'priceUsd': '20074.1943084393510282',\n",
       "  'time': 1665075600000,\n",
       "  'circulatingSupply': '19171050.0000000000000000',\n",
       "  'date': '2022-10-06T17:00:00.000Z'},\n",
       " {'priceUsd': '20117.2967118943093409',\n",
       "  'time': 1665079200000,\n",
       "  'circulatingSupply': '19171156.0000000000000000',\n",
       "  'date': '2022-10-06T18:00:00.000Z'},\n",
       " {'priceUsd': '20034.9602017475891124',\n",
       "  'time': 1665082800000,\n",
       "  'circulatingSupply': '19171156.0000000000000000',\n",
       "  'date': '2022-10-06T19:00:00.000Z'},\n",
       " {'priceUsd': '20020.4973861841998219',\n",
       "  'time': 1665086400000,\n",
       "  'circulatingSupply': '19171218.0000000000000000',\n",
       "  'date': '2022-10-06T20:00:00.000Z'},\n",
       " {'priceUsd': '20051.4716163831244710',\n",
       "  'time': 1665090000000,\n",
       "  'circulatingSupply': '19171218.0000000000000000',\n",
       "  'date': '2022-10-06T21:00:00.000Z'},\n",
       " {'priceUsd': '19917.5244809496860445',\n",
       "  'time': 1665093600000,\n",
       "  'circulatingSupply': '19171343.0000000000000000',\n",
       "  'date': '2022-10-06T22:00:00.000Z'},\n",
       " {'priceUsd': '19910.7773043146134199',\n",
       "  'time': 1665097200000,\n",
       "  'circulatingSupply': '19171343.0000000000000000',\n",
       "  'date': '2022-10-06T23:00:00.000Z'}]"
      ]
     },
     "execution_count": 4,
     "metadata": {},
     "output_type": "execute_result"
    }
   ],
   "source": [
    "getBitcoinPrice('2022-10-06T00:00:00Z+00:00')"
   ]
  },
  {
   "cell_type": "markdown",
   "id": "545388f6",
   "metadata": {},
   "source": [
    "<img src=\"Img/17.png\" />"
   ]
  },
  {
   "cell_type": "code",
   "execution_count": 5,
   "id": "f2e12238",
   "metadata": {},
   "outputs": [],
   "source": [
    "import pickle"
   ]
  },
  {
   "cell_type": "markdown",
   "id": "39f80e98",
   "metadata": {},
   "source": [
    "<img src=\"Img/18.png\" />"
   ]
  },
  {
   "cell_type": "code",
   "execution_count": 6,
   "id": "7210eaf4",
   "metadata": {},
   "outputs": [],
   "source": [
    "class PeakFlag():\n",
    "    def __init__(self, param):\n",
    "        self.unixTime = param\n",
    "\n",
    "\n",
    "def save_peak_flag(obj):\n",
    "    try:\n",
    "        with open(\"peak-flag.pickle\", \"wb\") as f:\n",
    "            pickle.dump(obj, f, protocol=pickle.HIGHEST_PROTOCOL)\n",
    "    except Exception as ex:\n",
    "        print(\"Error during pickling object (Possibly unsupported):\", ex)\n",
    "\n",
    "\n",
    "def load_peak_flag():\n",
    "    try:\n",
    "        with open(\"peak-flag.pickle\", \"rb\") as f:\n",
    "            return pickle.load(f)\n",
    "    except Exception as ex:\n",
    "        return None"
   ]
  },
  {
   "cell_type": "markdown",
   "id": "3a40efbf",
   "metadata": {},
   "source": [
    "<img src=\"Img/19.png\" />"
   ]
  },
  {
   "cell_type": "code",
   "execution_count": 7,
   "id": "a51af5d3",
   "metadata": {},
   "outputs": [],
   "source": [
    "class ContinueDate():\n",
    "    def __init__(self, startPage, endPage):\n",
    "        self.startPage = startPage\n",
    "        self.endPage = endPage\n",
    "\n",
    "\n",
    "def save_continue_date(obj):\n",
    "    try:\n",
    "        with open(\"continue-date.pickle\", \"wb\") as f:\n",
    "            pickle.dump(obj, f, protocol=pickle.HIGHEST_PROTOCOL)\n",
    "    except Exception as ex:\n",
    "        print(\"Error during pickling object (Possibly unsupported):\", ex)\n",
    "\n",
    "\n",
    "def load_continue_date():\n",
    "    try:\n",
    "        with open(\"continue-date.pickle\", \"rb\") as f:\n",
    "            return pickle.load(f)\n",
    "    except Exception as ex:\n",
    "        return None"
   ]
  },
  {
   "cell_type": "markdown",
   "id": "4004fe20",
   "metadata": {},
   "source": [
    "<img src=\"Img/11.png\" />"
   ]
  },
  {
   "cell_type": "code",
   "execution_count": 8,
   "id": "9021d3df",
   "metadata": {},
   "outputs": [],
   "source": [
    "def getNewsContent(link):\n",
    "    page = requests.get(link,headers=headers)\n",
    "    text = \"\"\n",
    "    for p in BeautifulSoup(page.content, 'html.parser').find('article',class_='article__body').find_all('p'):\n",
    "        text = text + \" \" + p.text\n",
    "    return text"
   ]
  },
  {
   "cell_type": "markdown",
   "id": "14482435",
   "metadata": {},
   "source": [
    "<img src=\"Img/ex.png\" />"
   ]
  },
  {
   "cell_type": "code",
   "execution_count": 9,
   "id": "cce395b0",
   "metadata": {},
   "outputs": [
    {
     "data": {
      "text/plain": [
       "' During the last month, the market capitalization of all the stablecoins in existence dropped by more than 2%, shedding roughly $2.98 billion since the end of October. Statistics show that tether, the largest stablecoin by market valuation, saw its market cap lose more than 5% during the last 30 days. Tether’s market cap slipped from last month’s $69.13 billion to today’s $65.48 billion. Statistics show that the stablecoin economy’s market valuation has reduced during the last 30 days by roughly 2.02%. On Oct. 31, 2022, the stablecoin economy was valued at $147.03 billion and today, it’s down to $144.05 billion. Furthermore, the market capitalization of all the stablecoins in existence is much lower than it was two months ago, as the market cap dropped by 4.83% from $151.37 billion to today’s $144 billion total. Data indicates that this past month, tether (USDT) has seen its market capitalization drop more than 5% lower from $69.13 billion to the current $65.48 billion.  However, the second-largest stablecoin by market cap, usd coin (USDC) has seen its market valuation increase during the past 30 days, jumping roughly 1.5% higher. The stablecoin BUSD’s valuation continues to grow month after month, and over the last 30 days, it’s up 4.8%. Out of the top five stablecoins today, BUSD’s market cap grew the most over the last month.  Makerdao’s DAI stablecoin has shed 9.7% this past month and the stablecoin’s market capitalization was the biggest loser out of the top ten dollar-pegged crypto tokens. On Oct. 31, DAI’s market cap was around $5.77 billion and today, it’s coasting along at $5.20 billion. With tether and DAI leading the losses over the last month out of the top ten stablecoins, frax (FRAX) followed behind the two tokens shedding around 3.1% last month. Stablecoin trade volume has dropped a great deal over the last two months but the tokens still represent a majority of today’s trades. For instance, on Sept. 27, 2022, stablecoins captured $205 billion out of the $225 billion in global trades. On Oct. 31, stablecoins recorded $55.91 billion in trades out of the total worldwide crypto trade volume ($71 billion). During the past 24 hours stablecoins have captured $37.73 billion and the aggregate trade volume among all the crypto coins in existence today is roughly $46.56 billion. This means out of the $46 billion in trades among all the crypto assets, stablecoins equate to 81.04% of those trades. What do you think about the state of the stablecoin market today? What do you think about the stablecoin economy’s valuation slipping by close to 5% during the past two months? Let us know what you think about this subject in the comments section below.  \\nJamie Redman is the News Lead at Bitcoin.com News and a financial tech journalist living in Florida. Redman has been an active member of the cryptocurrency community since 2011. He has a passion for Bitcoin, open-source code, and decentralized applications. Since September 2015, Redman has written more than 6,000 articles for Bitcoin.com News about the disruptive protocols emerging today.\\n\\n\\n\\n\\n\\n Image Credits: Shutterstock, Pixabay, Wiki Commons Disclaimer: This article is for informational purposes only. It is not a direct offer or solicitation of an offer to buy or sell, or a recommendation or endorsement of any products, services, or companies. Bitcoin.com does not provide investment, tax, legal, or accounting advice. Neither the company nor the author is responsible, directly or indirectly, for any damage or loss caused or alleged to be caused by or in connection with the use of or reliance on any content, goods or services mentioned in this article. Ripple CEO: SEC Lawsuit Over XRP \\'Has Gone Exceedingly Well\\' The CEO of Ripple Labs says that the lawsuit brought by the U.S. Securities and Exchange Commission (SEC) against him and his company over XRP \"has gone exceedingly well.\" He stressed: \"This case is important, not just for Ripple, it’s ... read more.'"
      ]
     },
     "execution_count": 9,
     "metadata": {},
     "output_type": "execute_result"
    }
   ],
   "source": [
    "getNewsContent('https://news.bitcoin.com/stablecoin-economy-continues-to-shrink-shedding-close-to-5-in-2-months/')"
   ]
  },
  {
   "cell_type": "markdown",
   "id": "786b7315",
   "metadata": {},
   "source": [
    "<img src=\"Img/12.png\" />"
   ]
  },
  {
   "cell_type": "code",
   "execution_count": 10,
   "id": "e7ea6825",
   "metadata": {},
   "outputs": [],
   "source": [
    "class News:\n",
    "    def __init__(self, title, cat, content, publishedAt):\n",
    "        self.title = title\n",
    "        self.cat = cat\n",
    "        self.content = content\n",
    "        self.publishedAt = publishedAt\n",
    "        self.prices = getBitcoinPrice(publishedAt)\n",
    "\n",
    "    def __repr__(self):\n",
    "        return f\"News({self.title!r}, {self.cat!r}, {self.content!r}, {self.publishedAt!r},{self.prices[0]['priceUsd']!r}, {self.prices[1]['priceUsd']!r}, {self.prices[2]['priceUsd']!r}, {self.prices[3]['priceUsd']!r}, {self.prices[4]['priceUsd']!r}, {self.prices[5]['priceUsd']!r}, {self.prices[6]['priceUsd']!r}, {self.prices[7]['priceUsd']!r}, {self.prices[8]['priceUsd']!r}, {self.prices[9]['priceUsd']!r}, {self.prices[10]['priceUsd']!r}, {self.prices[11]['priceUsd']!r}, {self.prices[12]['priceUsd']!r}, {self.prices[13]['priceUsd']!r}, {self.prices[14]['priceUsd']!r}, {self.prices[15]['priceUsd']!r}, {self.prices[16]['priceUsd']!r}, {self.prices[17]['priceUsd']!r}, {self.prices[18]['priceUsd']!r}, {self.prices[19]['priceUsd']!r}, {self.prices[20]['priceUsd']!r}, {self.prices[21]['priceUsd']!r}, {self.prices[22]['priceUsd']!r}, {self.prices[23]['priceUsd']!r})\"\n",
    "\n",
    "    def __iter__(self):\n",
    "        return iter([self.title, self.cat, self.content, self.publishedAt, self.prices[0][\"priceUsd\"], self.prices[1][\"priceUsd\"], self.prices[2][\"priceUsd\"], self.prices[3][\"priceUsd\"], self.prices[4][\"priceUsd\"], self.prices[5][\"priceUsd\"], self.prices[6][\"priceUsd\"], self.prices[7][\"priceUsd\"], self.prices[8][\"priceUsd\"], self.prices[9][\"priceUsd\"], self.prices[10][\"priceUsd\"], self.prices[11][\"priceUsd\"], self.prices[12][\"priceUsd\"], self.prices[13][\"priceUsd\"], self.prices[14][\"priceUsd\"], self.prices[15][\"priceUsd\"], self.prices[16][\"priceUsd\"], self.prices[17][\"priceUsd\"], self.prices[18][\"priceUsd\"], self.prices[19][\"priceUsd\"], self.prices[20][\"priceUsd\"], self.prices[21][\"priceUsd\"], self.prices[22][\"priceUsd\"], self.prices[23][\"priceUsd\"]])"
   ]
  },
  {
   "cell_type": "markdown",
   "id": "03b014ec",
   "metadata": {},
   "source": [
    "<img src=\"Img/16.png\" />"
   ]
  },
  {
   "cell_type": "code",
   "execution_count": 11,
   "id": "beb45dce",
   "metadata": {},
   "outputs": [],
   "source": [
    "class LatestNews:\n",
    "    def __init__(self, title, cat, content, publishedAt):\n",
    "        self.title = title\n",
    "        self.cat = cat\n",
    "        self.content = content\n",
    "        self.publishedAt = publishedAt\n",
    "\n",
    "    def __repr__(self):\n",
    "        return f\"News({self.title!r}, {self.cat!r}, {self.content!r}, {self.publishedAt!r})\"\n",
    "\n",
    "    def __iter__(self):\n",
    "        return iter([self.title, self.cat, self.content, self.publishedAt])"
   ]
  },
  {
   "cell_type": "markdown",
   "id": "b27a5ec4",
   "metadata": {},
   "source": [
    "<img src=\"Img/20.png\" />"
   ]
  },
  {
   "cell_type": "code",
   "execution_count": 12,
   "id": "0c051a90",
   "metadata": {},
   "outputs": [],
   "source": [
    "import csv\n",
    "import pandas as pd\n",
    "import os"
   ]
  },
  {
   "cell_type": "code",
   "execution_count": 13,
   "id": "20bdc93a",
   "metadata": {},
   "outputs": [],
   "source": [
    "def getCardList(link):\n",
    "    page = requests.get(link, headers=headers)\n",
    "    return BeautifulSoup(page.content, 'html.parser').find(class_=\"td-ss-main-content\").find_all(class_=\"td_module_16 td_module_wrap td-animation-stack\")"
   ]
  },
  {
   "cell_type": "code",
   "execution_count": 14,
   "id": "809b18f5",
   "metadata": {},
   "outputs": [],
   "source": [
    "def getCardNews(opt):\n",
    "    title = opt.find('h3', class_=\"entry-title td-module-title\").text\n",
    "    cat = opt.find('a', class_=\"td-post-category\").text\n",
    "    link = opt.find(\n",
    "        'h3', class_=\"entry-title td-module-title\").find('a').get('href')\n",
    "    publishedAt = opt.find('time').get('datetime')\n",
    "    print(\"\\t\", publishedAt)\n",
    "    return News(title, cat, getNewsContent(link), publishedAt)"
   ]
  },
  {
   "cell_type": "code",
   "execution_count": 15,
   "id": "459bcb33",
   "metadata": {},
   "outputs": [],
   "source": [
    "def getCardLatestNews(opt):\n",
    "    title = opt.find('h3', class_=\"entry-title td-module-title\").text\n",
    "    cat = opt.find('a', class_=\"td-post-category\").text\n",
    "    link = opt.find(\n",
    "        'h3', class_=\"entry-title td-module-title\").find('a').get('href')\n",
    "    publishedAt = opt.find('time').get('datetime')\n",
    "    print(\"\\t\", publishedAt)\n",
    "    return LatestNews(title, cat, getNewsContent(link), publishedAt)"
   ]
  },
  {
   "cell_type": "markdown",
   "id": "15309031",
   "metadata": {},
   "source": [
    "<img src=\"Img/13.png\" />"
   ]
  },
  {
   "cell_type": "code",
   "execution_count": 16,
   "id": "a1d395b7",
   "metadata": {},
   "outputs": [],
   "source": [
    "def createDataset(startPage, endPage):\n",
    "    newsList = []\n",
    "    cardList = []\n",
    "\n",
    "    for i in range(startPage, endPage):\n",
    "        cardList = getCardList(\n",
    "            \"https://news.bitcoin.com/page/\" + str(i) + \"/?s\")\n",
    "        print(\"https://news.bitcoin.com/page/\" + str(i) + \"/?s\")\n",
    "        save_continue_date(ContinueDate(i, endPage))\n",
    "        for card in cardList:\n",
    "            newsList.append(getCardNews(card))\n",
    "\n",
    "    peak = load_peak_flag()\n",
    "\n",
    "    if peak == None or (datetime.fromisoformat(peak.unixTime).timestamp() < datetime.fromisoformat(newsList[0].publishedAt).timestamp()):\n",
    "        save_peak_flag(PeakFlag(newsList[0].publishedAt))\n",
    "\n",
    "    with open(\"data-set.csv\", \"a\") as stream:\n",
    "        writer = csv.writer(stream)\n",
    "        writer.writerows(newsList)"
   ]
  },
  {
   "cell_type": "markdown",
   "id": "53be3ed9",
   "metadata": {},
   "source": [
    "<img src=\"Img/ex.png\" />"
   ]
  },
  {
   "cell_type": "code",
   "execution_count": 17,
   "id": "d021a0bc",
   "metadata": {},
   "outputs": [
    {
     "name": "stdout",
     "output_type": "stream",
     "text": [
      "https://news.bitcoin.com/page/2/?s\n",
      "\t 2022-12-03T19:30:37+00:00\n",
      "\t 2022-12-03T17:30:30+00:00\n",
      "\t 2022-12-03T15:30:49+00:00\n",
      "\t 2022-12-03T13:30:09+00:00\n",
      "\t 2022-12-03T11:30:20+00:00\n",
      "\t 2022-12-03T10:30:55+00:00\n",
      "\t 2022-12-03T07:30:00+00:00\n",
      "\t 2022-12-03T06:30:27+00:00\n",
      "\t 2022-12-03T04:00:20+00:00\n",
      "\t 2022-12-03T01:30:08+00:00\n"
     ]
    }
   ],
   "source": [
    "if os.path.exists(\"peak-flag.pickle\"):\n",
    "    os.remove(\"peak-flag.pickle\")\n",
    "if os.path.exists(\"continue-date.pickle\"):\n",
    "    os.remove(\"continue-date.pickle\")\n",
    "if os.path.exists(\"data-set.csv\"):\n",
    "    os.remove(\"data-set.csv\")\n",
    "createDataset(2,3)"
   ]
  },
  {
   "cell_type": "markdown",
   "id": "6fe34493",
   "metadata": {},
   "source": [
    "<img src=\"Img/15.png\" />"
   ]
  },
  {
   "cell_type": "code",
   "execution_count": 18,
   "id": "91539c8c",
   "metadata": {
    "scrolled": true
   },
   "outputs": [
    {
     "data": {
      "text/html": [
       "<div>\n",
       "<style scoped>\n",
       "    .dataframe tbody tr th:only-of-type {\n",
       "        vertical-align: middle;\n",
       "    }\n",
       "\n",
       "    .dataframe tbody tr th {\n",
       "        vertical-align: top;\n",
       "    }\n",
       "\n",
       "    .dataframe thead th {\n",
       "        text-align: right;\n",
       "    }\n",
       "</style>\n",
       "<table border=\"1\" class=\"dataframe\">\n",
       "  <thead>\n",
       "    <tr style=\"text-align: right;\">\n",
       "      <th></th>\n",
       "      <th>title</th>\n",
       "      <th>category</th>\n",
       "      <th>content</th>\n",
       "      <th>time</th>\n",
       "      <th>0</th>\n",
       "      <th>1</th>\n",
       "      <th>2</th>\n",
       "      <th>3</th>\n",
       "      <th>4</th>\n",
       "      <th>5</th>\n",
       "      <th>...</th>\n",
       "      <th>14</th>\n",
       "      <th>15</th>\n",
       "      <th>16</th>\n",
       "      <th>17</th>\n",
       "      <th>18</th>\n",
       "      <th>19</th>\n",
       "      <th>20</th>\n",
       "      <th>21</th>\n",
       "      <th>22</th>\n",
       "      <th>23</th>\n",
       "    </tr>\n",
       "  </thead>\n",
       "  <tbody>\n",
       "    <tr>\n",
       "      <th>0</th>\n",
       "      <td>Elon Musk Suspects Former FTX CEO Sam Bankman-...</td>\n",
       "      <td>Featured</td>\n",
       "      <td>Tesla CEO and Twitter chief Elon Musk says th...</td>\n",
       "      <td>2022-12-03T19:30:37+00:00</td>\n",
       "      <td>16971.827327</td>\n",
       "      <td>16952.540247</td>\n",
       "      <td>16961.884839</td>\n",
       "      <td>16917.474460</td>\n",
       "      <td>16908.323013</td>\n",
       "      <td>16970.690196</td>\n",
       "      <td>...</td>\n",
       "      <td>17022.894051</td>\n",
       "      <td>17021.889278</td>\n",
       "      <td>16966.796209</td>\n",
       "      <td>16980.445969</td>\n",
       "      <td>16966.449468</td>\n",
       "      <td>17021.797751</td>\n",
       "      <td>17056.625326</td>\n",
       "      <td>17035.912746</td>\n",
       "      <td>17053.413138</td>\n",
       "      <td>17082.155223</td>\n",
       "    </tr>\n",
       "    <tr>\n",
       "      <th>1</th>\n",
       "      <td>Russia’s Sber Bank Aims for Blockchain Integra...</td>\n",
       "      <td>Finance</td>\n",
       "      <td>Banking giant Sber wants to integrate its blo...</td>\n",
       "      <td>2022-12-03T17:30:30+00:00</td>\n",
       "      <td>16990.515936</td>\n",
       "      <td>16988.000224</td>\n",
       "      <td>16971.827327</td>\n",
       "      <td>16952.540247</td>\n",
       "      <td>16961.884839</td>\n",
       "      <td>16917.474460</td>\n",
       "      <td>...</td>\n",
       "      <td>17014.859411</td>\n",
       "      <td>17035.698286</td>\n",
       "      <td>17022.894051</td>\n",
       "      <td>17021.889278</td>\n",
       "      <td>16966.796209</td>\n",
       "      <td>16980.445969</td>\n",
       "      <td>16966.449468</td>\n",
       "      <td>17021.797751</td>\n",
       "      <td>17056.625326</td>\n",
       "      <td>17035.912746</td>\n",
       "    </tr>\n",
       "    <tr>\n",
       "      <th>2</th>\n",
       "      <td>Applied Direct Response — ERCOT Study Shows Bi...</td>\n",
       "      <td>Mining</td>\n",
       "      <td>On Nov. 29, 2022, The Electric Reliability Co...</td>\n",
       "      <td>2022-12-03T15:30:49+00:00</td>\n",
       "      <td>16979.808119</td>\n",
       "      <td>16972.027473</td>\n",
       "      <td>16990.515936</td>\n",
       "      <td>16988.000224</td>\n",
       "      <td>16971.827327</td>\n",
       "      <td>16952.540247</td>\n",
       "      <td>...</td>\n",
       "      <td>17038.188517</td>\n",
       "      <td>17019.104968</td>\n",
       "      <td>17014.859411</td>\n",
       "      <td>17035.698286</td>\n",
       "      <td>17022.894051</td>\n",
       "      <td>17021.889278</td>\n",
       "      <td>16966.796209</td>\n",
       "      <td>16980.445969</td>\n",
       "      <td>16966.449468</td>\n",
       "      <td>17021.797751</td>\n",
       "    </tr>\n",
       "    <tr>\n",
       "      <th>3</th>\n",
       "      <td>An Unknown Individual Signed a Message Associa...</td>\n",
       "      <td>News</td>\n",
       "      <td>On Nov. 15, 2022, a post was created on the f...</td>\n",
       "      <td>2022-12-03T13:30:09+00:00</td>\n",
       "      <td>16969.216902</td>\n",
       "      <td>16960.100610</td>\n",
       "      <td>16979.808119</td>\n",
       "      <td>16972.027473</td>\n",
       "      <td>16990.515936</td>\n",
       "      <td>16988.000224</td>\n",
       "      <td>...</td>\n",
       "      <td>16980.029736</td>\n",
       "      <td>17029.151055</td>\n",
       "      <td>17038.188517</td>\n",
       "      <td>17019.104968</td>\n",
       "      <td>17014.859411</td>\n",
       "      <td>17035.698286</td>\n",
       "      <td>17022.894051</td>\n",
       "      <td>17021.889278</td>\n",
       "      <td>16966.796209</td>\n",
       "      <td>16980.445969</td>\n",
       "    </tr>\n",
       "    <tr>\n",
       "      <th>4</th>\n",
       "      <td>Report: Genesis Owes Gemini Customers $900 Mil...</td>\n",
       "      <td>News</td>\n",
       "      <td>According to a recent report from the Financi...</td>\n",
       "      <td>2022-12-03T11:30:20+00:00</td>\n",
       "      <td>16961.546750</td>\n",
       "      <td>16978.593877</td>\n",
       "      <td>16969.216902</td>\n",
       "      <td>16960.100610</td>\n",
       "      <td>16979.808119</td>\n",
       "      <td>16972.027473</td>\n",
       "      <td>...</td>\n",
       "      <td>16986.337503</td>\n",
       "      <td>16992.539822</td>\n",
       "      <td>16980.029736</td>\n",
       "      <td>17029.151055</td>\n",
       "      <td>17038.188517</td>\n",
       "      <td>17019.104968</td>\n",
       "      <td>17014.859411</td>\n",
       "      <td>17035.698286</td>\n",
       "      <td>17022.894051</td>\n",
       "      <td>17021.889278</td>\n",
       "    </tr>\n",
       "    <tr>\n",
       "      <th>5</th>\n",
       "      <td>Biggest Movers: QNT Remains Near Multi-Week Hi...</td>\n",
       "      <td>Market Updates</td>\n",
       "      <td>Quant was one of the biggest gainers to start...</td>\n",
       "      <td>2022-12-03T10:30:55+00:00</td>\n",
       "      <td>16979.704143</td>\n",
       "      <td>16961.546750</td>\n",
       "      <td>16978.593877</td>\n",
       "      <td>16969.216902</td>\n",
       "      <td>16960.100610</td>\n",
       "      <td>16979.808119</td>\n",
       "      <td>...</td>\n",
       "      <td>16970.690196</td>\n",
       "      <td>16986.337503</td>\n",
       "      <td>16992.539822</td>\n",
       "      <td>16980.029736</td>\n",
       "      <td>17029.151055</td>\n",
       "      <td>17038.188517</td>\n",
       "      <td>17019.104968</td>\n",
       "      <td>17014.859411</td>\n",
       "      <td>17035.698286</td>\n",
       "      <td>17022.894051</td>\n",
       "    </tr>\n",
       "    <tr>\n",
       "      <th>6</th>\n",
       "      <td>Bitcoin, Ethereum Technical Analysis: BTC Cons...</td>\n",
       "      <td>Market Updates</td>\n",
       "      <td>Bitcoin was consolidating to start the weeken...</td>\n",
       "      <td>2022-12-03T07:30:00+00:00</td>\n",
       "      <td>16984.377682</td>\n",
       "      <td>16956.323992</td>\n",
       "      <td>16996.408063</td>\n",
       "      <td>16979.704143</td>\n",
       "      <td>16961.546750</td>\n",
       "      <td>16978.593877</td>\n",
       "      <td>...</td>\n",
       "      <td>16961.884839</td>\n",
       "      <td>16917.474460</td>\n",
       "      <td>16908.323013</td>\n",
       "      <td>16970.690196</td>\n",
       "      <td>16986.337503</td>\n",
       "      <td>16992.539822</td>\n",
       "      <td>16980.029736</td>\n",
       "      <td>17029.151055</td>\n",
       "      <td>17038.188517</td>\n",
       "      <td>17019.104968</td>\n",
       "    </tr>\n",
       "    <tr>\n",
       "      <th>7</th>\n",
       "      <td>Stellantis Owned Fiat Launches Metaverse Store...</td>\n",
       "      <td>Metaverse</td>\n",
       "      <td>Fiat, an automotive brand property of Stellan...</td>\n",
       "      <td>2022-12-03T06:30:27+00:00</td>\n",
       "      <td>16995.806031</td>\n",
       "      <td>16984.377682</td>\n",
       "      <td>16956.323992</td>\n",
       "      <td>16996.408063</td>\n",
       "      <td>16979.704143</td>\n",
       "      <td>16961.546750</td>\n",
       "      <td>...</td>\n",
       "      <td>16952.540247</td>\n",
       "      <td>16961.884839</td>\n",
       "      <td>16917.474460</td>\n",
       "      <td>16908.323013</td>\n",
       "      <td>16970.690196</td>\n",
       "      <td>16986.337503</td>\n",
       "      <td>16992.539822</td>\n",
       "      <td>16980.029736</td>\n",
       "      <td>17029.151055</td>\n",
       "      <td>17038.188517</td>\n",
       "    </tr>\n",
       "    <tr>\n",
       "      <th>8</th>\n",
       "      <td>Korean VC Firm Daesung Private Equity Announce...</td>\n",
       "      <td>Metaverse</td>\n",
       "      <td>Daesung Private Equity, a Korean venture capi...</td>\n",
       "      <td>2022-12-03T04:00:20+00:00</td>\n",
       "      <td>17031.885008</td>\n",
       "      <td>17032.881786</td>\n",
       "      <td>16995.806031</td>\n",
       "      <td>16984.377682</td>\n",
       "      <td>16956.323992</td>\n",
       "      <td>16996.408063</td>\n",
       "      <td>...</td>\n",
       "      <td>16988.000224</td>\n",
       "      <td>16971.827327</td>\n",
       "      <td>16952.540247</td>\n",
       "      <td>16961.884839</td>\n",
       "      <td>16917.474460</td>\n",
       "      <td>16908.323013</td>\n",
       "      <td>16970.690196</td>\n",
       "      <td>16986.337503</td>\n",
       "      <td>16992.539822</td>\n",
       "      <td>16980.029736</td>\n",
       "    </tr>\n",
       "    <tr>\n",
       "      <th>9</th>\n",
       "      <td>EU Parliament to ‘Vote on Adopting the Regulat...</td>\n",
       "      <td>Regulation</td>\n",
       "      <td>In a recent statement, the European Parliamen...</td>\n",
       "      <td>2022-12-03T01:30:08+00:00</td>\n",
       "      <td>17066.711438</td>\n",
       "      <td>17042.560027</td>\n",
       "      <td>17035.342137</td>\n",
       "      <td>17031.885008</td>\n",
       "      <td>17032.881786</td>\n",
       "      <td>16995.806031</td>\n",
       "      <td>...</td>\n",
       "      <td>16979.808119</td>\n",
       "      <td>16972.027473</td>\n",
       "      <td>16990.515936</td>\n",
       "      <td>16988.000224</td>\n",
       "      <td>16971.827327</td>\n",
       "      <td>16952.540247</td>\n",
       "      <td>16961.884839</td>\n",
       "      <td>16917.474460</td>\n",
       "      <td>16908.323013</td>\n",
       "      <td>16970.690196</td>\n",
       "    </tr>\n",
       "  </tbody>\n",
       "</table>\n",
       "<p>10 rows × 28 columns</p>\n",
       "</div>"
      ],
      "text/plain": [
       "                                               title        category  \\\n",
       "0  Elon Musk Suspects Former FTX CEO Sam Bankman-...        Featured   \n",
       "1  Russia’s Sber Bank Aims for Blockchain Integra...         Finance   \n",
       "2  Applied Direct Response — ERCOT Study Shows Bi...          Mining   \n",
       "3  An Unknown Individual Signed a Message Associa...            News   \n",
       "4  Report: Genesis Owes Gemini Customers $900 Mil...            News   \n",
       "5  Biggest Movers: QNT Remains Near Multi-Week Hi...  Market Updates   \n",
       "6  Bitcoin, Ethereum Technical Analysis: BTC Cons...  Market Updates   \n",
       "7  Stellantis Owned Fiat Launches Metaverse Store...       Metaverse   \n",
       "8  Korean VC Firm Daesung Private Equity Announce...       Metaverse   \n",
       "9  EU Parliament to ‘Vote on Adopting the Regulat...      Regulation   \n",
       "\n",
       "                                             content  \\\n",
       "0   Tesla CEO and Twitter chief Elon Musk says th...   \n",
       "1   Banking giant Sber wants to integrate its blo...   \n",
       "2   On Nov. 29, 2022, The Electric Reliability Co...   \n",
       "3   On Nov. 15, 2022, a post was created on the f...   \n",
       "4   According to a recent report from the Financi...   \n",
       "5   Quant was one of the biggest gainers to start...   \n",
       "6   Bitcoin was consolidating to start the weeken...   \n",
       "7   Fiat, an automotive brand property of Stellan...   \n",
       "8   Daesung Private Equity, a Korean venture capi...   \n",
       "9   In a recent statement, the European Parliamen...   \n",
       "\n",
       "                        time             0             1             2  \\\n",
       "0  2022-12-03T19:30:37+00:00  16971.827327  16952.540247  16961.884839   \n",
       "1  2022-12-03T17:30:30+00:00  16990.515936  16988.000224  16971.827327   \n",
       "2  2022-12-03T15:30:49+00:00  16979.808119  16972.027473  16990.515936   \n",
       "3  2022-12-03T13:30:09+00:00  16969.216902  16960.100610  16979.808119   \n",
       "4  2022-12-03T11:30:20+00:00  16961.546750  16978.593877  16969.216902   \n",
       "5  2022-12-03T10:30:55+00:00  16979.704143  16961.546750  16978.593877   \n",
       "6  2022-12-03T07:30:00+00:00  16984.377682  16956.323992  16996.408063   \n",
       "7  2022-12-03T06:30:27+00:00  16995.806031  16984.377682  16956.323992   \n",
       "8  2022-12-03T04:00:20+00:00  17031.885008  17032.881786  16995.806031   \n",
       "9  2022-12-03T01:30:08+00:00  17066.711438  17042.560027  17035.342137   \n",
       "\n",
       "              3             4             5  ...            14            15  \\\n",
       "0  16917.474460  16908.323013  16970.690196  ...  17022.894051  17021.889278   \n",
       "1  16952.540247  16961.884839  16917.474460  ...  17014.859411  17035.698286   \n",
       "2  16988.000224  16971.827327  16952.540247  ...  17038.188517  17019.104968   \n",
       "3  16972.027473  16990.515936  16988.000224  ...  16980.029736  17029.151055   \n",
       "4  16960.100610  16979.808119  16972.027473  ...  16986.337503  16992.539822   \n",
       "5  16969.216902  16960.100610  16979.808119  ...  16970.690196  16986.337503   \n",
       "6  16979.704143  16961.546750  16978.593877  ...  16961.884839  16917.474460   \n",
       "7  16996.408063  16979.704143  16961.546750  ...  16952.540247  16961.884839   \n",
       "8  16984.377682  16956.323992  16996.408063  ...  16988.000224  16971.827327   \n",
       "9  17031.885008  17032.881786  16995.806031  ...  16979.808119  16972.027473   \n",
       "\n",
       "             16            17            18            19            20  \\\n",
       "0  16966.796209  16980.445969  16966.449468  17021.797751  17056.625326   \n",
       "1  17022.894051  17021.889278  16966.796209  16980.445969  16966.449468   \n",
       "2  17014.859411  17035.698286  17022.894051  17021.889278  16966.796209   \n",
       "3  17038.188517  17019.104968  17014.859411  17035.698286  17022.894051   \n",
       "4  16980.029736  17029.151055  17038.188517  17019.104968  17014.859411   \n",
       "5  16992.539822  16980.029736  17029.151055  17038.188517  17019.104968   \n",
       "6  16908.323013  16970.690196  16986.337503  16992.539822  16980.029736   \n",
       "7  16917.474460  16908.323013  16970.690196  16986.337503  16992.539822   \n",
       "8  16952.540247  16961.884839  16917.474460  16908.323013  16970.690196   \n",
       "9  16990.515936  16988.000224  16971.827327  16952.540247  16961.884839   \n",
       "\n",
       "             21            22            23  \n",
       "0  17035.912746  17053.413138  17082.155223  \n",
       "1  17021.797751  17056.625326  17035.912746  \n",
       "2  16980.445969  16966.449468  17021.797751  \n",
       "3  17021.889278  16966.796209  16980.445969  \n",
       "4  17035.698286  17022.894051  17021.889278  \n",
       "5  17014.859411  17035.698286  17022.894051  \n",
       "6  17029.151055  17038.188517  17019.104968  \n",
       "7  16980.029736  17029.151055  17038.188517  \n",
       "8  16986.337503  16992.539822  16980.029736  \n",
       "9  16917.474460  16908.323013  16970.690196  \n",
       "\n",
       "[10 rows x 28 columns]"
      ]
     },
     "execution_count": 18,
     "metadata": {},
     "output_type": "execute_result"
    }
   ],
   "source": [
    "dataset_df = pd.read_csv('data-set.csv',sep=\",\",header=None)\n",
    "dataset_df.columns = ['title','category','content','time','0','1','2','3','4','5','6','7','8','9','10','11','12','13','14','15','16','17','18','19','20','21','22','23']\n",
    "dataset_df"
   ]
  },
  {
   "cell_type": "markdown",
   "id": "67c675d4",
   "metadata": {},
   "source": [
    "<img src=\"Img/22.png\" />"
   ]
  },
  {
   "cell_type": "code",
   "execution_count": 19,
   "id": "7ee3b8e8",
   "metadata": {},
   "outputs": [],
   "source": [
    "def continueCreateDataset():\n",
    "    x = load_continue_date()\n",
    "    if x != None and int(x.startPage)+1 != int(x.endPage):\n",
    "        createDataset(x.startPage, x.endPage)\n",
    "    else:\n",
    "        print(\"Last duration had been ended or no duration had not been happened.\")"
   ]
  },
  {
   "cell_type": "markdown",
   "id": "4c6a76f8",
   "metadata": {},
   "source": [
    "<img src=\"Img/ex.png\" />"
   ]
  },
  {
   "cell_type": "code",
   "execution_count": 20,
   "id": "632310cb",
   "metadata": {},
   "outputs": [
    {
     "name": "stdout",
     "output_type": "stream",
     "text": [
      "Last duration had been ended or no duration had not been happened.\n"
     ]
    }
   ],
   "source": [
    "continueCreateDataset()"
   ]
  },
  {
   "cell_type": "markdown",
   "id": "83dbd315",
   "metadata": {},
   "source": [
    "<img src=\"Img/23.png\" />"
   ]
  },
  {
   "cell_type": "code",
   "execution_count": 21,
   "id": "663dda07",
   "metadata": {},
   "outputs": [],
   "source": [
    "def collectLatestNews():\n",
    "    newsList = []\n",
    "    cardList = []\n",
    "    peak = load_peak_flag()\n",
    "\n",
    "    for i in range(1, 3):\n",
    "        cardList = getCardList(\n",
    "            \"https://news.bitcoin.com/page/\" + str(i) + \"/?s\")\n",
    "        print(\"https://news.bitcoin.com/page/\" + str(i) + \"/?s\")\n",
    "        for card in cardList:\n",
    "            x = getCardLatestNews(card)\n",
    "            if peak != None and datetime.fromisoformat(peak.unixTime).timestamp() >= datetime.fromisoformat(x.publishedAt).timestamp():\n",
    "                break\n",
    "            else:\n",
    "                newsList.append(x)\n",
    "\n",
    "    if len(newsList) > 0 and (peak == None or (datetime.fromisoformat(peak.unixTime).timestamp() < datetime.fromisoformat(newsList[0].publishedAt).timestamp())):\n",
    "        save_peak_flag(PeakFlag(newsList[0].publishedAt))\n",
    "    else:\n",
    "        print(\"No News!\")\n",
    "\n",
    "    with open(\"latest-news.csv\", \"w+\") as stream:\n",
    "        writer = csv.writer(stream)\n",
    "        writer.writerows(newsList)"
   ]
  },
  {
   "cell_type": "markdown",
   "id": "c95141bf",
   "metadata": {},
   "source": [
    "<img src=\"Img/ex.png\"/>"
   ]
  },
  {
   "cell_type": "code",
   "execution_count": 22,
   "id": "7db364d6",
   "metadata": {},
   "outputs": [
    {
     "name": "stdout",
     "output_type": "stream",
     "text": [
      "https://news.bitcoin.com/page/1/?s\n",
      "\t 2022-12-04T16:00:39+00:00\n",
      "\t 2022-12-04T14:00:32+00:00\n",
      "\t 2022-12-04T11:30:45+00:00\n",
      "\t 2022-12-04T09:30:50+00:00\n",
      "\t 2022-12-04T07:30:34+00:00\n",
      "\t 2022-12-04T07:00:23+00:00\n",
      "\t 2022-12-04T05:00:44+00:00\n",
      "\t 2022-12-04T02:30:57+00:00\n",
      "\t 2022-12-04T00:00:03+00:00\n",
      "\t 2022-12-03T21:30:07+00:00\n",
      "https://news.bitcoin.com/page/2/?s\n",
      "\t 2022-12-03T19:30:37+00:00\n"
     ]
    }
   ],
   "source": [
    "collectLatestNews()"
   ]
  },
  {
   "cell_type": "markdown",
   "id": "a8ceb7f2",
   "metadata": {},
   "source": [
    "<img src=\"Img/21.png\" />"
   ]
  },
  {
   "cell_type": "code",
   "execution_count": 23,
   "id": "f7c7c843",
   "metadata": {},
   "outputs": [
    {
     "data": {
      "text/html": [
       "<div>\n",
       "<style scoped>\n",
       "    .dataframe tbody tr th:only-of-type {\n",
       "        vertical-align: middle;\n",
       "    }\n",
       "\n",
       "    .dataframe tbody tr th {\n",
       "        vertical-align: top;\n",
       "    }\n",
       "\n",
       "    .dataframe thead th {\n",
       "        text-align: right;\n",
       "    }\n",
       "</style>\n",
       "<table border=\"1\" class=\"dataframe\">\n",
       "  <thead>\n",
       "    <tr style=\"text-align: right;\">\n",
       "      <th></th>\n",
       "      <th>title</th>\n",
       "      <th>category</th>\n",
       "      <th>content</th>\n",
       "      <th>time</th>\n",
       "    </tr>\n",
       "  </thead>\n",
       "  <tbody>\n",
       "    <tr>\n",
       "      <th>0</th>\n",
       "      <td>Bitcoin’s Third Largest Wallet Changed Hands, ...</td>\n",
       "      <td>Featured</td>\n",
       "      <td>Last year and during the first half of 2022, ...</td>\n",
       "      <td>2022-12-04T16:00:39+00:00</td>\n",
       "    </tr>\n",
       "    <tr>\n",
       "      <th>1</th>\n",
       "      <td>Web3 Crypto Onboarding Platform Transak Integr...</td>\n",
       "      <td>Wallets</td>\n",
       "      <td>According to Transak, users of the Coinbase s...</td>\n",
       "      <td>2022-12-04T14:00:32+00:00</td>\n",
       "    </tr>\n",
       "    <tr>\n",
       "      <th>2</th>\n",
       "      <td>The Crypto 6 Case Heads to Trial With Only 1 D...</td>\n",
       "      <td>News</td>\n",
       "      <td>On Dec. 6, 2022, the “Crypto Six” case will b...</td>\n",
       "      <td>2022-12-04T11:30:45+00:00</td>\n",
       "    </tr>\n",
       "    <tr>\n",
       "      <th>3</th>\n",
       "      <td>Addresses That Sat Idle for Years Transferred ...</td>\n",
       "      <td>News</td>\n",
       "      <td>During the last seven days, bitcoin’s price h...</td>\n",
       "      <td>2022-12-04T09:30:50+00:00</td>\n",
       "    </tr>\n",
       "    <tr>\n",
       "      <th>4</th>\n",
       "      <td>Failed FTX Rescue Attempt Revealed, Putin Call...</td>\n",
       "      <td>The Weekly</td>\n",
       "      <td>Shark Tank star Kevin O’Leary has revealed hi...</td>\n",
       "      <td>2022-12-04T07:30:34+00:00</td>\n",
       "    </tr>\n",
       "    <tr>\n",
       "      <th>5</th>\n",
       "      <td>Bitget Shares Merkle Tree Proof of Reserves to...</td>\n",
       "      <td>Sponsored</td>\n",
       "      <td>Leading global cryptocurrency exchange, Bitge...</td>\n",
       "      <td>2022-12-04T07:00:23+00:00</td>\n",
       "    </tr>\n",
       "    <tr>\n",
       "      <th>6</th>\n",
       "      <td>Nobel Prize Laureate Paul Krugman Warns of an ...</td>\n",
       "      <td>News</td>\n",
       "      <td>Nobel Prize-winning economist Paul Krugman ha...</td>\n",
       "      <td>2022-12-04T05:00:44+00:00</td>\n",
       "    </tr>\n",
       "    <tr>\n",
       "      <th>7</th>\n",
       "      <td>Report: AAX Users Storm Crypto Exchange’s Nige...</td>\n",
       "      <td>News</td>\n",
       "      <td>Nigeria users of the crypto exchange AAX, whi...</td>\n",
       "      <td>2022-12-04T02:30:57+00:00</td>\n",
       "    </tr>\n",
       "    <tr>\n",
       "      <th>8</th>\n",
       "      <td>Demand for Cryptocurrency Miners Rises in Russ...</td>\n",
       "      <td>Mining</td>\n",
       "      <td>Russia’s market for specialized crypto mining...</td>\n",
       "      <td>2022-12-04T00:00:03+00:00</td>\n",
       "    </tr>\n",
       "    <tr>\n",
       "      <th>9</th>\n",
       "      <td>Maxine Waters Criticized for Praising SBF — La...</td>\n",
       "      <td>Regulation</td>\n",
       "      <td>Congresswoman Maxine Waters has been heavily ...</td>\n",
       "      <td>2022-12-03T21:30:07+00:00</td>\n",
       "    </tr>\n",
       "  </tbody>\n",
       "</table>\n",
       "</div>"
      ],
      "text/plain": [
       "                                               title    category  \\\n",
       "0  Bitcoin’s Third Largest Wallet Changed Hands, ...    Featured   \n",
       "1  Web3 Crypto Onboarding Platform Transak Integr...     Wallets   \n",
       "2  The Crypto 6 Case Heads to Trial With Only 1 D...        News   \n",
       "3  Addresses That Sat Idle for Years Transferred ...        News   \n",
       "4  Failed FTX Rescue Attempt Revealed, Putin Call...  The Weekly   \n",
       "5  Bitget Shares Merkle Tree Proof of Reserves to...   Sponsored   \n",
       "6  Nobel Prize Laureate Paul Krugman Warns of an ...        News   \n",
       "7  Report: AAX Users Storm Crypto Exchange’s Nige...        News   \n",
       "8  Demand for Cryptocurrency Miners Rises in Russ...      Mining   \n",
       "9  Maxine Waters Criticized for Praising SBF — La...  Regulation   \n",
       "\n",
       "                                             content  \\\n",
       "0   Last year and during the first half of 2022, ...   \n",
       "1   According to Transak, users of the Coinbase s...   \n",
       "2   On Dec. 6, 2022, the “Crypto Six” case will b...   \n",
       "3   During the last seven days, bitcoin’s price h...   \n",
       "4   Shark Tank star Kevin O’Leary has revealed hi...   \n",
       "5   Leading global cryptocurrency exchange, Bitge...   \n",
       "6   Nobel Prize-winning economist Paul Krugman ha...   \n",
       "7   Nigeria users of the crypto exchange AAX, whi...   \n",
       "8   Russia’s market for specialized crypto mining...   \n",
       "9   Congresswoman Maxine Waters has been heavily ...   \n",
       "\n",
       "                        time  \n",
       "0  2022-12-04T16:00:39+00:00  \n",
       "1  2022-12-04T14:00:32+00:00  \n",
       "2  2022-12-04T11:30:45+00:00  \n",
       "3  2022-12-04T09:30:50+00:00  \n",
       "4  2022-12-04T07:30:34+00:00  \n",
       "5  2022-12-04T07:00:23+00:00  \n",
       "6  2022-12-04T05:00:44+00:00  \n",
       "7  2022-12-04T02:30:57+00:00  \n",
       "8  2022-12-04T00:00:03+00:00  \n",
       "9  2022-12-03T21:30:07+00:00  "
      ]
     },
     "execution_count": 23,
     "metadata": {},
     "output_type": "execute_result"
    }
   ],
   "source": [
    "news_df = pd.read_csv('latest-news.csv',sep=\",\",header=None)\n",
    "news_df.columns = ['title','category','content','time']\n",
    "news_df"
   ]
  },
  {
   "cell_type": "code",
   "execution_count": null,
   "id": "00a66489",
   "metadata": {},
   "outputs": [],
   "source": []
  }
 ],
 "metadata": {
  "kernelspec": {
   "display_name": "Python 3 (ipykernel)",
   "language": "python",
   "name": "python3"
  },
  "language_info": {
   "codemirror_mode": {
    "name": "ipython",
    "version": 3
   },
   "file_extension": ".py",
   "mimetype": "text/x-python",
   "name": "python",
   "nbconvert_exporter": "python",
   "pygments_lexer": "ipython3",
   "version": "3.8.10"
  }
 },
 "nbformat": 4,
 "nbformat_minor": 5
}
