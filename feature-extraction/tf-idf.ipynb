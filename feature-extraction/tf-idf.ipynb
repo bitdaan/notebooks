{
 "cells": [
  {
   "cell_type": "code",
   "execution_count": 3,
   "id": "e481b308",
   "metadata": {},
   "outputs": [],
   "source": [
    "import pandas as pd\n",
    "from scipy.sparse import csr_matrix\n",
    "from sklearn.feature_extraction.text import TfidfVectorizer\n",
    "from sklearn.decomposition import TruncatedSVD\n",
    "from sklearn.cluster import KMeans\n",
    "from sklearn.pipeline import make_pipeline"
   ]
  },
  {
   "cell_type": "code",
   "execution_count": 4,
   "id": "b0be6cb0",
   "metadata": {},
   "outputs": [],
   "source": [
    "docs = ['Last year and during the first half of 2022, speculators assumed the third-largest bitcoin address was a mysterious whale even though the wallet had shown strong characteristics of being a cryptocurrency exchange',\n",
    "       'The address known as  has since been replaced by another address, after the wallet started to transfer its entire bitcoin balance in mid-July 2022',\n",
    "       'The bitcoin address is now the third-largest wallet today, and very likely that the owner of the 1LQoW wallet is the same entity that managed the 1P5ZED wallet.']\n",
    "titles = ['first doc', 'second doc', 'third doc']"
   ]
  },
  {
   "cell_type": "code",
   "execution_count": 22,
   "id": "685882db",
   "metadata": {
    "scrolled": true
   },
   "outputs": [
    {
     "data": {
      "text/plain": [
       "{'last': 31,\n",
       " 'year': 57,\n",
       " 'and': 5,\n",
       " 'during': 16,\n",
       " 'the': 47,\n",
       " 'first': 21,\n",
       " 'half': 23,\n",
       " 'of': 37,\n",
       " '2022': 2,\n",
       " 'speculators': 43,\n",
       " 'assumed': 8,\n",
       " 'third': 48,\n",
       " 'largest': 30,\n",
       " 'bitcoin': 12,\n",
       " 'address': 3,\n",
       " 'was': 55,\n",
       " 'mysterious': 35,\n",
       " 'whale': 56,\n",
       " 'even': 19,\n",
       " 'though': 49,\n",
       " 'wallet': 54,\n",
       " 'had': 22,\n",
       " 'shown': 41,\n",
       " 'strong': 45,\n",
       " 'characteristics': 14,\n",
       " 'being': 11,\n",
       " 'cryptocurrency': 15,\n",
       " 'exchange': 20,\n",
       " 'known': 29,\n",
       " 'as': 7,\n",
       " 'has': 24,\n",
       " 'since': 42,\n",
       " 'been': 10,\n",
       " 'replaced': 39,\n",
       " 'by': 13,\n",
       " 'another': 6,\n",
       " 'after': 4,\n",
       " 'started': 44,\n",
       " 'to': 50,\n",
       " 'transfer': 52,\n",
       " 'its': 27,\n",
       " 'entire': 17,\n",
       " 'balance': 9,\n",
       " 'in': 25,\n",
       " 'mid': 34,\n",
       " 'july': 28,\n",
       " 'is': 26,\n",
       " 'now': 36,\n",
       " 'today': 51,\n",
       " 'very': 53,\n",
       " 'likely': 32,\n",
       " 'that': 46,\n",
       " 'owner': 38,\n",
       " '1lqow': 0,\n",
       " 'same': 40,\n",
       " 'entity': 18,\n",
       " 'managed': 33,\n",
       " '1p5zed': 1}"
      ]
     },
     "execution_count": 22,
     "metadata": {},
     "output_type": "execute_result"
    }
   ],
   "source": [
    "tfidf = TfidfVectorizer()\n",
    "csr_mat = tfidf.fit_transform(docs)\n",
    "words = tfidf.get_feature_names()\n",
    "#csr_mat.toarray()\n",
    "tfidf.vocabulary_"
   ]
  },
  {
   "cell_type": "code",
   "execution_count": 23,
   "id": "5a7a0bf8",
   "metadata": {},
   "outputs": [
    {
     "name": "stderr",
     "output_type": "stream",
     "text": [
      "C:\\Users\\HP\\anaconda3\\lib\\site-packages\\sklearn\\cluster\\_kmeans.py:1334: UserWarning: KMeans is known to have a memory leak on Windows with MKL, when there are less chunks than available threads. You can avoid it by setting the environment variable OMP_NUM_THREADS=1.\n",
      "  warnings.warn(\n"
     ]
    }
   ],
   "source": [
    "svd = TruncatedSVD(n_components=2)\n",
    "kmeans = KMeans(n_clusters=2)\n",
    "pipeline = make_pipeline(svd, kmeans)\n",
    "\n",
    "\n",
    "pipeline.fit(csr_mat)\n",
    "labels = pipeline.predict(csr_mat)"
   ]
  },
  {
   "cell_type": "code",
   "execution_count": 26,
   "id": "e9a9b827",
   "metadata": {},
   "outputs": [
    {
     "name": "stdout",
     "output_type": "stream",
     "text": [
      "   labels        docs\n",
      "1       0  second doc\n",
      "0       1   first doc\n",
      "2       1   third doc\n",
      "['Last year and during the first half of 2022, speculators assumed the third-largest bitcoin address was a mysterious whale even though the wallet had shown strong characteristics of being a cryptocurrency exchange', 'The address known as  has since been replaced by another address, after the wallet started to transfer its entire bitcoin balance in mid-July 2022', 'The bitcoin address is now the third-largest wallet today, and very likely that the owner of the 1LQoW wallet is the same entity that managed the 1P5ZED wallet.']\n"
     ]
    }
   ],
   "source": [
    "df = pd.DataFrame({'labels':labels, 'docs':titles})\n",
    "print(df.sort_values('labels'))\n",
    "print(docs)"
   ]
  },
  {
   "cell_type": "code",
   "execution_count": null,
   "id": "ebab87a5",
   "metadata": {},
   "outputs": [],
   "source": []
  }
 ],
 "metadata": {
  "kernelspec": {
   "display_name": "Python 3 (ipykernel)",
   "language": "python",
   "name": "python3"
  },
  "language_info": {
   "codemirror_mode": {
    "name": "ipython",
    "version": 3
   },
   "file_extension": ".py",
   "mimetype": "text/x-python",
   "name": "python",
   "nbconvert_exporter": "python",
   "pygments_lexer": "ipython3",
   "version": "3.9.7"
  }
 },
 "nbformat": 4,
 "nbformat_minor": 5
}
